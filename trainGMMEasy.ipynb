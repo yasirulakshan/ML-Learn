{
 "cells": [
  {
   "cell_type": "code",
   "execution_count": 2,
   "metadata": {},
   "outputs": [],
   "source": [
    "import pandas as pd\n",
    "from sklearn.mixture import GaussianMixture\n",
    "\n",
    "# Load your dataset into a pandas DataFrame\n",
    "df = pd.read_csv('Dataset_1.csv')\n",
    "\n",
    "# Split the data into features and labels\n",
    "X = df.iloc[:, :-1]\n",
    "Y = df.iloc[:, -1]\n",
    "\n",
    "# Create a GMM object with the desired number of components\n",
    "gmm = GaussianMixture(n_components=4)\n",
    "\n",
    "# Fit the GMM to your data\n",
    "gmm.fit(X)\n",
    "\n",
    "# Predict the activity column of your dataset\n",
    "y_pred = gmm.predict(X)\n"
   ]
  },
  {
   "cell_type": "code",
   "execution_count": 3,
   "metadata": {},
   "outputs": [],
   "source": [
    "zero = [0,0,0,0]\n",
    "one = [0,0,0,0]\n",
    "two = [0,0,0,0]\n",
    "three = [0,0,0,0]\n",
    "\n",
    "for i in range(len(y_pred)):\n",
    "    if y_pred[i] == 0:\n",
    "        if Y[i] == 0:\n",
    "            zero[0] += 1\n",
    "        elif Y[i] == 1:\n",
    "            zero[1] += 1\n",
    "        elif Y[i] == 2:\n",
    "            zero[2] += 1\n",
    "        elif Y[i] == 3:\n",
    "            zero[3] += 1\n",
    "    elif y_pred[i] == 1:\n",
    "        if Y[i] == 0:\n",
    "            one[0] += 1\n",
    "        elif Y[i] == 1:\n",
    "            one[1] += 1\n",
    "        elif Y[i] == 2:\n",
    "            one[2] += 1\n",
    "        elif Y[i] == 3:\n",
    "            one[3] += 1\n",
    "    elif y_pred[i] == 2:\n",
    "        if Y[i] == 0:\n",
    "            two[0] += 1\n",
    "        elif Y[i] == 1:\n",
    "            two[1] += 1\n",
    "        elif Y[i] == 2:\n",
    "            two[2] += 1\n",
    "        elif Y[i] == 3:\n",
    "            two[3] += 1\n",
    "    elif y_pred[i] == 3:\n",
    "        if Y[i] == 0:\n",
    "            three[0] += 1\n",
    "        elif Y[i] == 1:\n",
    "            three[1] += 1\n",
    "        elif Y[i] == 2:\n",
    "            three[2] += 1\n",
    "        elif Y[i] == 3:\n",
    "            three[3] += 1\n",
    "    "
   ]
  },
  {
   "cell_type": "code",
   "execution_count": 4,
   "metadata": {},
   "outputs": [
    {
     "name": "stdout",
     "output_type": "stream",
     "text": [
      "Zero : 688\n",
      "One : 105\n",
      "Two : 49\n",
      "Three : 42\n"
     ]
    }
   ],
   "source": [
    "total = sum(zero)\n",
    "print(\"Zero : \" + str(total))\n",
    "zero = [(x / total) * 100 for x in zero]\n",
    "\n",
    "total = sum(one)\n",
    "print(\"One : \" + str(total))\n",
    "one = [(x / total) * 100 for x in one]\n",
    "\n",
    "total = sum(two)\n",
    "print(\"Two : \" + str(total))\n",
    "two = [(x / total) * 100 for x in two]\n",
    "\n",
    "total = sum(three)\n",
    "print(\"Three : \" + str(total))\n",
    "three = [(x / total) * 100 for x in three]"
   ]
  },
  {
   "cell_type": "code",
   "execution_count": 5,
   "metadata": {},
   "outputs": [
    {
     "name": "stdout",
     "output_type": "stream",
     "text": [
      "[54.65116279069767, 21.22093023255814, 16.569767441860463, 7.55813953488372]\n"
     ]
    }
   ],
   "source": [
    "print(zero)"
   ]
  },
  {
   "cell_type": "code",
   "execution_count": 6,
   "metadata": {},
   "outputs": [
    {
     "name": "stdout",
     "output_type": "stream",
     "text": [
      "[24.761904761904763, 31.428571428571427, 35.23809523809524, 8.571428571428571]\n"
     ]
    }
   ],
   "source": [
    "print(one)"
   ]
  },
  {
   "cell_type": "code",
   "execution_count": 7,
   "metadata": {},
   "outputs": [
    {
     "name": "stdout",
     "output_type": "stream",
     "text": [
      "[0.0, 4.081632653061225, 24.489795918367346, 71.42857142857143]\n"
     ]
    }
   ],
   "source": [
    "print(two)"
   ]
  },
  {
   "cell_type": "code",
   "execution_count": 8,
   "metadata": {},
   "outputs": [
    {
     "name": "stdout",
     "output_type": "stream",
     "text": [
      "[11.904761904761903, 71.42857142857143, 4.761904761904762, 11.904761904761903]\n"
     ]
    }
   ],
   "source": [
    "print(three)"
   ]
  },
  {
   "cell_type": "code",
   "execution_count": 14,
   "metadata": {},
   "outputs": [
    {
     "name": "stdout",
     "output_type": "stream",
     "text": [
      "Confusion Matrix:\n",
      "[[376 143 113  53]\n",
      " [  5  20   4  28]\n",
      " [  0   2  46  18]\n",
      " [ 26  46   2   2]]\n"
     ]
    }
   ],
   "source": [
    "from sklearn.metrics import confusion_matrix\n",
    "\n",
    "# Calculate the confusion matrix\n",
    "cm = confusion_matrix(y_pred, y)\n",
    "\n",
    "# Print the confusion matrix\n",
    "print('Confusion Matrix:')\n",
    "print(cm)\n"
   ]
  },
  {
   "cell_type": "code",
   "execution_count": 12,
   "metadata": {},
   "outputs": [
    {
     "name": "stdout",
     "output_type": "stream",
     "text": [
      "[0, 0, 0, 0, 0, 0, 0, 0, 0, 0, 0, 0, 0, 0, 0, 0, 0, 0, 0, 0, 0, 0, 0, 0, 0, 0, 0, 0, 1, 1, 1, 1, 1, 1, 1, 1, 1, 1, 1, 1, 1, 1, 1, 1, 1, 1, 1, 1, 1, 1, 1, 1, 1, 1, 1, 1, 1, 1, 1, 1, 1, 1, 1, 1, 1, 1, 1, 1, 1, 1, 1, 1, 1, 1, 1, 1, 1, 1, 1, 1, 1, 1, 1, 1, 1, 1, 1, 1, 1, 1, 1, 1, 1, 1, 1, 1, 1, 1, 1, 1, 1, 1, 1, 1, 1, 1, 1, 1, 1, 1, 2, 2, 2, 2, 2, 2, 2, 2, 2, 2, 2, 2, 2, 2, 2, 2, 2, 2, 2, 2, 2, 2, 2, 2, 2, 2, 2, 2, 2, 2, 2, 2, 2, 2, 2, 2, 2, 2, 2, 2, 2, 2, 2, 2, 2, 2, 2, 2, 2, 2, 2, 2, 2, 2, 2, 2, 2, 2, 2, 2, 2, 3, 3, 3, 3, 3, 3, 3, 3, 3, 3, 3, 3, 3, 3, 3, 3, 3, 3, 3, 3, 3, 3, 3, 3, 3, 3, 3, 3, 3, 3, 3, 3, 3, 3, 3, 3, 3, 3, 3, 3, 3, 3, 3, 3, 0, 0, 0, 0, 0, 0, 0, 0, 0, 0, 0, 0, 0, 0, 0, 0, 0, 0, 0, 0, 0, 0, 0, 0, 0, 0, 0, 0, 0, 0, 0, 0, 0, 0, 0, 0, 0, 0, 0, 0, 0, 0, 0, 0, 0, 0, 0, 0, 0, 0, 0, 0, 0, 0, 0, 0, 0, 0, 0, 0, 0, 0, 0, 0, 0, 0, 0, 0, 0, 0, 0, 0, 0, 0, 0, 0, 0, 0, 0, 0, 0, 0, 0, 0, 0, 0, 0, 0, 0, 0, 0, 0, 0, 0, 0, 0, 0, 0, 0, 0, 0, 0, 0, 0, 0, 0, 0, 0, 0, 0, 0, 0, 0, 0, 0, 0, 0, 0, 0, 0, 0, 0, 0, 0, 0, 0, 0, 0, 0, 0, 0, 0, 0, 0, 0, 0, 0, 0, 0, 0, 0, 0, 0, 0, 0, 0, 0, 0, 0, 0, 0, 0, 0, 0, 0, 0, 0, 0, 0, 0, 0, 0, 0, 0, 0, 0, 0, 0, 0, 0, 0, 0, 0, 0, 0, 0, 0, 0, 0, 0, 0, 0, 0, 0, 0, 0, 0, 0, 0, 0, 0, 0, 0, 0, 0, 0, 0, 0, 0, 0, 0, 0, 0, 0, 0, 0, 0, 0, 0, 0, 0, 0, 0, 0, 0, 0, 0, 0, 0, 0, 0, 0, 0, 0, 0, 0, 0, 0, 0, 0, 0, 0, 0, 0, 0, 0, 0, 0, 0, 0, 0, 0, 0, 0, 0, 0, 0, 0, 0, 0, 0, 0, 0, 0, 0, 0, 0, 0, 0, 0, 0, 0, 0, 0, 0, 0, 0, 0, 0, 0, 0, 0, 0, 0, 0, 0, 0, 0, 0, 0, 0, 0, 0, 0, 0, 0, 0, 0, 0, 0, 0, 0, 0, 0, 0, 0, 0, 0, 0, 0, 0, 0, 0, 0, 0, 0, 0, 0, 0, 0, 0, 0, 0, 0, 0, 0, 0, 0, 0, 0, 0, 0, 0, 0, 0, 0, 0, 0, 0, 0, 0, 0, 0, 0, 0, 0, 0, 0, 0, 0, 0, 0, 0, 0, 0, 0, 0, 0, 0, 0, 0, 0, 0, 0, 0, 0, 0, 0, 0, 0, 0, 0, 0, 0, 0, 0, 0, 0, 0, 0, 0, 0, 0, 0, 0, 0, 0, 0, 0, 1, 1, 1, 1, 1, 1, 1, 1, 1, 1, 1, 1, 1, 1, 1, 1, 1, 1, 1, 1, 1, 1, 1, 1, 1, 1, 1, 1, 1, 1, 1, 1, 1, 1, 1, 1, 1, 1, 1, 1, 1, 1, 1, 1, 1, 1, 1, 1, 1, 1, 1, 1, 1, 1, 1, 1, 1, 1, 1, 1, 1, 1, 1, 1, 1, 1, 1, 1, 1, 1, 1, 1, 1, 1, 1, 1, 1, 1, 1, 1, 1, 1, 1, 1, 1, 1, 1, 1, 1, 1, 1, 1, 1, 1, 1, 1, 1, 1, 1, 1, 1, 1, 1, 1, 1, 1, 1, 1, 1, 1, 1, 1, 1, 1, 1, 1, 1, 1, 1, 1, 1, 1, 1, 1, 1, 1, 1, 1, 1, 2, 2, 2, 2, 2, 2, 2, 2, 2, 2, 2, 2, 2, 2, 2, 2, 2, 2, 2, 2, 2, 2, 2, 2, 2, 2, 2, 2, 2, 2, 2, 2, 2, 2, 2, 2, 2, 2, 2, 2, 2, 2, 2, 2, 2, 2, 2, 2, 2, 2, 2, 2, 2, 2, 2, 2, 2, 2, 2, 2, 2, 2, 2, 2, 2, 2, 2, 2, 2, 2, 2, 2, 2, 2, 2, 2, 2, 2, 2, 2, 2, 2, 2, 2, 2, 2, 2, 2, 2, 2, 2, 2, 2, 2, 2, 2, 2, 2, 2, 2, 2, 2, 2, 2, 3, 3, 3, 3, 3, 3, 3, 3, 3, 3, 3, 3, 3, 3, 3, 3, 3, 3, 3, 3, 3, 3, 3, 3, 3, 3, 3, 3, 3, 3, 3, 3, 3, 3, 3, 3, 3, 3, 3, 3, 3, 3, 3, 3, 3, 3, 3, 3, 3, 3, 3, 3, 3, 3, 3, 3, 3]\n"
     ]
    }
   ],
   "source": [
    "print(y.to_list())"
   ]
  },
  {
   "cell_type": "code",
   "execution_count": 13,
   "metadata": {},
   "outputs": [
    {
     "name": "stdout",
     "output_type": "stream",
     "text": [
      "0.502262443438914\n"
     ]
    }
   ],
   "source": [
    "print(accuracy)"
   ]
  },
  {
   "cell_type": "code",
   "execution_count": 6,
   "metadata": {},
   "outputs": [
    {
     "data": {
      "text/html": [
       "<div>\n",
       "<style scoped>\n",
       "    .dataframe tbody tr th:only-of-type {\n",
       "        vertical-align: middle;\n",
       "    }\n",
       "\n",
       "    .dataframe tbody tr th {\n",
       "        vertical-align: top;\n",
       "    }\n",
       "\n",
       "    .dataframe thead th {\n",
       "        text-align: right;\n",
       "    }\n",
       "</style>\n",
       "<table border=\"1\" class=\"dataframe\">\n",
       "  <thead>\n",
       "    <tr style=\"text-align: right;\">\n",
       "      <th></th>\n",
       "      <th>amplitude1</th>\n",
       "      <th>phase1</th>\n",
       "      <th>amplicude2</th>\n",
       "      <th>phase2</th>\n",
       "      <th>amplitude3</th>\n",
       "      <th>phase3</th>\n",
       "      <th>amplitude4</th>\n",
       "      <th>phase4</th>\n",
       "      <th>amplitude5</th>\n",
       "      <th>phase5</th>\n",
       "      <th>...</th>\n",
       "      <th>amplitude60</th>\n",
       "      <th>phase60</th>\n",
       "      <th>amplitude61</th>\n",
       "      <th>phase61</th>\n",
       "      <th>amplitude62</th>\n",
       "      <th>phase62</th>\n",
       "      <th>amplitude63</th>\n",
       "      <th>phase63</th>\n",
       "      <th>amplitude64</th>\n",
       "      <th>phase64</th>\n",
       "    </tr>\n",
       "  </thead>\n",
       "  <tbody>\n",
       "    <tr>\n",
       "      <th>0</th>\n",
       "      <td>44.096855</td>\n",
       "      <td>0.320846</td>\n",
       "      <td>2.671706</td>\n",
       "      <td>3.155444e-30</td>\n",
       "      <td>618.694072</td>\n",
       "      <td>23.029147</td>\n",
       "      <td>576.060826</td>\n",
       "      <td>22.895069</td>\n",
       "      <td>410.659886</td>\n",
       "      <td>23.097584</td>\n",
       "      <td>...</td>\n",
       "      <td>537.740580</td>\n",
       "      <td>26.169864</td>\n",
       "      <td>405.070562</td>\n",
       "      <td>22.954477</td>\n",
       "      <td>224.983037</td>\n",
       "      <td>22.486659</td>\n",
       "      <td>58.537064</td>\n",
       "      <td>21.824703</td>\n",
       "      <td>28.652871</td>\n",
       "      <td>21.907521</td>\n",
       "    </tr>\n",
       "    <tr>\n",
       "      <th>1</th>\n",
       "      <td>351.808421</td>\n",
       "      <td>1.574547</td>\n",
       "      <td>131.215400</td>\n",
       "      <td>3.155444e-30</td>\n",
       "      <td>1643.281453</td>\n",
       "      <td>57.225698</td>\n",
       "      <td>1399.395872</td>\n",
       "      <td>56.553442</td>\n",
       "      <td>931.552369</td>\n",
       "      <td>52.762625</td>\n",
       "      <td>...</td>\n",
       "      <td>1903.538819</td>\n",
       "      <td>47.479389</td>\n",
       "      <td>1288.636708</td>\n",
       "      <td>63.152997</td>\n",
       "      <td>534.562906</td>\n",
       "      <td>68.530525</td>\n",
       "      <td>94.749448</td>\n",
       "      <td>72.465455</td>\n",
       "      <td>46.217489</td>\n",
       "      <td>71.200815</td>\n",
       "    </tr>\n",
       "    <tr>\n",
       "      <th>2</th>\n",
       "      <td>405.361842</td>\n",
       "      <td>2.037881</td>\n",
       "      <td>777.512978</td>\n",
       "      <td>3.155444e-30</td>\n",
       "      <td>3040.506882</td>\n",
       "      <td>29.242175</td>\n",
       "      <td>2428.098348</td>\n",
       "      <td>27.042593</td>\n",
       "      <td>1481.743453</td>\n",
       "      <td>27.814805</td>\n",
       "      <td>...</td>\n",
       "      <td>2015.564502</td>\n",
       "      <td>44.485971</td>\n",
       "      <td>1320.790712</td>\n",
       "      <td>43.684654</td>\n",
       "      <td>357.560602</td>\n",
       "      <td>43.461716</td>\n",
       "      <td>25.122297</td>\n",
       "      <td>43.696236</td>\n",
       "      <td>205.616516</td>\n",
       "      <td>44.876158</td>\n",
       "    </tr>\n",
       "    <tr>\n",
       "      <th>3</th>\n",
       "      <td>53.322393</td>\n",
       "      <td>1.061615</td>\n",
       "      <td>220.587184</td>\n",
       "      <td>3.155444e-30</td>\n",
       "      <td>2305.298125</td>\n",
       "      <td>146.062200</td>\n",
       "      <td>2171.443946</td>\n",
       "      <td>139.087301</td>\n",
       "      <td>1488.249871</td>\n",
       "      <td>139.343858</td>\n",
       "      <td>...</td>\n",
       "      <td>1015.746289</td>\n",
       "      <td>122.006521</td>\n",
       "      <td>577.445065</td>\n",
       "      <td>141.219363</td>\n",
       "      <td>142.297185</td>\n",
       "      <td>149.722043</td>\n",
       "      <td>65.286518</td>\n",
       "      <td>156.344284</td>\n",
       "      <td>266.784351</td>\n",
       "      <td>157.938816</td>\n",
       "    </tr>\n",
       "    <tr>\n",
       "      <th>4</th>\n",
       "      <td>24.330650</td>\n",
       "      <td>0.701943</td>\n",
       "      <td>49.317554</td>\n",
       "      <td>3.155444e-30</td>\n",
       "      <td>2670.297117</td>\n",
       "      <td>42.493378</td>\n",
       "      <td>2596.917334</td>\n",
       "      <td>28.889549</td>\n",
       "      <td>1578.761543</td>\n",
       "      <td>25.116414</td>\n",
       "      <td>...</td>\n",
       "      <td>2343.869432</td>\n",
       "      <td>75.686033</td>\n",
       "      <td>1578.203732</td>\n",
       "      <td>79.367759</td>\n",
       "      <td>504.463139</td>\n",
       "      <td>77.982490</td>\n",
       "      <td>23.889191</td>\n",
       "      <td>76.377473</td>\n",
       "      <td>73.123601</td>\n",
       "      <td>78.062771</td>\n",
       "    </tr>\n",
       "  </tbody>\n",
       "</table>\n",
       "<p>5 rows × 128 columns</p>\n",
       "</div>"
      ],
      "text/plain": [
       "   amplitude1    phase1  amplicude2        phase2   amplitude3      phase3  \\\n",
       "0   44.096855  0.320846    2.671706  3.155444e-30   618.694072   23.029147   \n",
       "1  351.808421  1.574547  131.215400  3.155444e-30  1643.281453   57.225698   \n",
       "2  405.361842  2.037881  777.512978  3.155444e-30  3040.506882   29.242175   \n",
       "3   53.322393  1.061615  220.587184  3.155444e-30  2305.298125  146.062200   \n",
       "4   24.330650  0.701943   49.317554  3.155444e-30  2670.297117   42.493378   \n",
       "\n",
       "    amplitude4      phase4   amplitude5      phase5  ...  amplitude60  \\\n",
       "0   576.060826   22.895069   410.659886   23.097584  ...   537.740580   \n",
       "1  1399.395872   56.553442   931.552369   52.762625  ...  1903.538819   \n",
       "2  2428.098348   27.042593  1481.743453   27.814805  ...  2015.564502   \n",
       "3  2171.443946  139.087301  1488.249871  139.343858  ...  1015.746289   \n",
       "4  2596.917334   28.889549  1578.761543   25.116414  ...  2343.869432   \n",
       "\n",
       "      phase60  amplitude61     phase61  amplitude62     phase62  amplitude63  \\\n",
       "0   26.169864   405.070562   22.954477   224.983037   22.486659    58.537064   \n",
       "1   47.479389  1288.636708   63.152997   534.562906   68.530525    94.749448   \n",
       "2   44.485971  1320.790712   43.684654   357.560602   43.461716    25.122297   \n",
       "3  122.006521   577.445065  141.219363   142.297185  149.722043    65.286518   \n",
       "4   75.686033  1578.203732   79.367759   504.463139   77.982490    23.889191   \n",
       "\n",
       "      phase63  amplitude64     phase64  \n",
       "0   21.824703    28.652871   21.907521  \n",
       "1   72.465455    46.217489   71.200815  \n",
       "2   43.696236   205.616516   44.876158  \n",
       "3  156.344284   266.784351  157.938816  \n",
       "4   76.377473    73.123601   78.062771  \n",
       "\n",
       "[5 rows x 128 columns]"
      ]
     },
     "execution_count": 6,
     "metadata": {},
     "output_type": "execute_result"
    }
   ],
   "source": [
    "X.head()"
   ]
  }
 ],
 "metadata": {
  "kernelspec": {
   "display_name": ".venv",
   "language": "python",
   "name": "python3"
  },
  "language_info": {
   "codemirror_mode": {
    "name": "ipython",
    "version": 3
   },
   "file_extension": ".py",
   "mimetype": "text/x-python",
   "name": "python",
   "nbconvert_exporter": "python",
   "pygments_lexer": "ipython3",
   "version": "3.12.1"
  }
 },
 "nbformat": 4,
 "nbformat_minor": 2
}

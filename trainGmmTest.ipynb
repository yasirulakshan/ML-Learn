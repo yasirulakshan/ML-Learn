{
 "cells": [
  {
   "cell_type": "code",
   "execution_count": 33,
   "metadata": {},
   "outputs": [],
   "source": [
    "import pandas as pd\n",
    "from sklearn.model_selection import train_test_split\n",
    "\n",
    "# Load the dataset into a pandas dataframe\n",
    "df = pd.read_csv('Dataset_1.csv')\n",
    "\n",
    "# Split the dataset into training and testing sets\n",
    "train_data, test_data = train_test_split(df, test_size=0.2, random_state=42)"
   ]
  },
  {
   "cell_type": "code",
   "execution_count": 6,
   "metadata": {},
   "outputs": [
    {
     "name": "stdout",
     "output_type": "stream",
     "text": [
      "The Silhouette score for the predicted labels is 0.42\n"
     ]
    }
   ],
   "source": [
    "from sklearn.metrics import silhouette_score\n",
    "from sklearn.mixture import GaussianMixture\n",
    "\n",
    "# Load the dataset into a pandas dataframe\n",
    "df = pd.read_csv('Dataset_1.csv')\n",
    "\n",
    "# Split the dataset into training and testing sets\n",
    "train_data, test_data = train_test_split(df, test_size=0.2, random_state=42)\n",
    "\n",
    "# Instantiate a GaussianMixture object with the desired number of components and covariance type\n",
    "gmm = GaussianMixture(n_components=3, covariance_type='full')\n",
    "\n",
    "# Fit the model to the training data using the fit() method\n",
    "gmm.fit(train_data)\n",
    "\n",
    "# Predict the activity labels for the test data using the predict() method\n",
    "activity_labels = gmm.predict(test_data)\n",
    "\n",
    "# Calculate the Silhouette score for the predicted labels\n",
    "silhouette_avg = silhouette_score(test_data, activity_labels)\n",
    "print(f\"The Silhouette score for the predicted labels is {silhouette_avg:.2f}\")\n"
   ]
  },
  {
   "cell_type": "code",
   "execution_count": 40,
   "metadata": {},
   "outputs": [],
   "source": [
    "gmm = GaussianMixture(n_components=3, covariance_type='full')\n",
    "\n",
    "# Fit the model to the training data using the fit() method\n",
    "gmm.fit(train_data)\n",
    "\n",
    "# Predict the activity labels for the test data using the predict() method\n",
    "activity_labels = gmm.predict(test_data)"
   ]
  },
  {
   "cell_type": "code",
   "execution_count": 39,
   "metadata": {},
   "outputs": [
    {
     "name": "stdout",
     "output_type": "stream",
     "text": [
      "The Silhouette score for the predicted labels is 0.42\n"
     ]
    }
   ],
   "source": [
    "silhouette_avg = silhouette_score(test_data, activity_labels)\n",
    "print(f\"The Silhouette score for the predicted labels is {silhouette_avg:.2f}\")\n"
   ]
  },
  {
   "cell_type": "code",
   "execution_count": 38,
   "metadata": {},
   "outputs": [
    {
     "name": "stdout",
     "output_type": "stream",
     "text": [
      "[0 0 0 0 0 0 0 0 0 0 0 2 0 0 0 0 0 0 0 0 2 0 0 0 1 0 0 0 0 0 0 0 0 0 2 0 0\n",
      " 0 0 0 0 0 0 0 0 0 0 0 0 0 0 0 0 0 0 0 0 0 0 0 0 0 0 0 0 0 0 0 0 2 0 0 0 0\n",
      " 0 0 0 0 0 0 0 0 0 0 0 0 0 0 0 0 0 0 0 0 0 0 0 0 0 0 0 0 0 0 0 0 1 0 0 0 0\n",
      " 2 0 0 0 1 0 0 0 0 0 0 0 0 0 0 0 0 0 0 0 0 0 0 0 0 0 0 0 0 0 0 0 0 0 0 0 0\n",
      " 0 0 0 0 0 0 0 0 0 0 0 0 0 0 0 0 0 0 2 0 0 0 0 0 0 0 0 0 0]\n"
     ]
    }
   ],
   "source": [
    "print (activity_labels)"
   ]
  },
  {
   "cell_type": "code",
   "execution_count": 11,
   "metadata": {},
   "outputs": [
    {
     "name": "stdout",
     "output_type": "stream",
     "text": [
      "44     1\n",
      "388    0\n",
      "638    1\n",
      "739    2\n",
      "879    3\n",
      "      ..\n",
      "118    2\n",
      "858    3\n",
      "495    0\n",
      "29     1\n",
      "247    0\n",
      "Name: activity, Length: 177, dtype: int64\n"
     ]
    }
   ],
   "source": [
    "print(test_data['activity'])\n"
   ]
  }
 ],
 "metadata": {
  "kernelspec": {
   "display_name": ".venv",
   "language": "python",
   "name": "python3"
  },
  "language_info": {
   "codemirror_mode": {
    "name": "ipython",
    "version": 3
   },
   "file_extension": ".py",
   "mimetype": "text/x-python",
   "name": "python",
   "nbconvert_exporter": "python",
   "pygments_lexer": "ipython3",
   "version": "3.12.1"
  }
 },
 "nbformat": 4,
 "nbformat_minor": 2
}
